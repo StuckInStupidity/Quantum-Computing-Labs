{
 "cells": [
  {
   "cell_type": "markdown",
   "metadata": {},
   "source": [
    "Before you turn this lab in, make sure everything runs as expected. **Restart and run all cells** (in the menubar, select Kernel$\\rightarrow$Restart & Run All) then check the output is as expected and there are no errors.  Also remember to **Save** before uploading this file (File$\\rightarrow$Save and Checkpoint)."
   ]
  },
  {
   "cell_type": "markdown",
   "metadata": {},
   "source": [
    "---"
   ]
  },
  {
   "cell_type": "markdown",
   "metadata": {},
   "source": [
    "# <div align=\"center\">Quantum Computer Systems Design</div>&nbsp;  <div align=\"center\">Lab 2</div> \n",
    "\n",
    "### 1. Quantum Measurements\n",
    "How do we read out information from a quantum computer? In this problem, we will work with the different ways you may measure quantum states. \n",
    "\n",
    "#### 1.1 Measuring single-qubit states\n",
    "Implement a quantum program that prepares a quantum state and then performs a measurement."
   ]
  },
  {
   "cell_type": "code",
   "execution_count": null,
   "metadata": {},
   "outputs": [],
   "source": [
    "import numpy as np\n",
    "from qiskit import QuantumCircuit, ClassicalRegister, QuantumRegister, execute\n",
    "from qiskit.tools.visualization import circuit_drawer, plot_bloch_multivector\n",
    "from qiskit.quantum_info import state_fidelity, Operator\n",
    "from qiskit import BasicAer\n",
    "# Use the simulator from qiskit Aer\n",
    "backend = BasicAer.get_backend('qasm_simulator')"
   ]
  },
  {
   "cell_type": "code",
   "execution_count": null,
   "metadata": {},
   "outputs": [],
   "source": [
    "def draw_bloch(qc):\n",
    "    state_simulator = BasicAer.get_backend('statevector_simulator')\n",
    "    result = execute(qc, state_simulator).result()\n",
    "    return plot_bloch_multivector(result.get_statevector(qc))\n",
    "\n",
    "qc1_prep = QuantumCircuit(1, 1)\n",
    "qc1_prep.ry(np.pi/8, 0) # prepare quantum state\n",
    "\n",
    "draw_bloch(qc1_prep) # Visualize prepared state on Bloch sphere"
   ]
  },
  {
   "cell_type": "code",
   "execution_count": null,
   "metadata": {},
   "outputs": [],
   "source": [
    "qc1 = QuantumCircuit(1, 1) \n",
    "qc1 += qc1_prep\n",
    "qc1.measure(0, 0) # Z-basis measurement\n",
    "\n",
    "qc1.draw(fold=-1) # Visualize quantum circuit"
   ]
  },
  {
   "cell_type": "code",
   "execution_count": null,
   "metadata": {},
   "outputs": [],
   "source": [
    "job = execute(qc1, backend, shots=1000) # Simulate\n",
    "job.result().get_counts(qc1)"
   ]
  },
  {
   "cell_type": "markdown",
   "metadata": {},
   "source": [
    "##### 1.1.1 Z-basis measurement\n",
    "Recall the definition of a z-basis measurement is to apply the $Z$ observable, written as:\n",
    "$$Z = (+1)E_0 + (-1)E_1$$\n",
    "where $E_0=|0\\rangle\\langle 0|$ and $E_1=|1\\rangle\\langle 1|$ are the orthogonal projectors associated with the z-basis.\n",
    "\n",
    "What is the probability `pz` of obtaining $|0\\rangle$ from the measurement?"
   ]
  },
  {
   "cell_type": "code",
   "execution_count": null,
   "metadata": {
    "deletable": false,
    "nbgrader": {
     "cell_type": "code",
     "checksum": "0bfbdd3dc4535cf7fa0da4bca50755b4",
     "grade": false,
     "grade_id": "1-1-1",
     "locked": false,
     "schema_version": 3,
     "solution": true,
     "task": false
    }
   },
   "outputs": [
    {
     "name": "stdout",
     "output_type": "stream",
     "text": [
      "0.4999999999999999\n"
     ]
    }
   ],
   "source": [
    "import numpy as np\n",
    "\n",
    "# Define the state |psi\\ = a|0\\ + b|1\\\n",
    "alpha = 1/np.sqrt(2)\n",
    "beta = 1/np.sqrt(2)\n",
    "psi = np.array([alpha, beta])\n",
    "\n",
    "# Define the projector E_0 = |0\\/0|\n",
    "E0 = np.array([[1, 0], [0, 0]])\n",
    "\n",
    "# Compute the probability of measuring |0\\\n",
    "pz = np.vdot(psi, E0 @ psi)\n",
    "print(pz)\n"
   ]
  },
  {
   "cell_type": "markdown",
   "metadata": {},
   "source": [
    "##### 1.1.2 Z-basis measurement (continued)\n",
    "What is the expectation value of the above measurement, $\\langle Z\\rangle$?"
   ]
  },
  {
   "cell_type": "code",
   "execution_count": null,
   "metadata": {
    "deletable": false,
    "nbgrader": {
     "cell_type": "code",
     "checksum": "d9922bb84a813a71342f264bf6104892",
     "grade": false,
     "grade_id": "1-1-2",
     "locked": false,
     "schema_version": 3,
     "solution": true,
     "task": false
    }
   },
   "outputs": [
    {
     "name": "stdout",
     "output_type": "stream",
     "text": [
      "0.0\n"
     ]
    }
   ],
   "source": [
    "import numpy as np\n",
    "\n",
    "# Define the state |psi\\ = a|0\\ + b|1\\\n",
    "alpha = 1/np.sqrt(2)\n",
    "beta = 1/np.sqrt(2)\n",
    "psi = np.array([alpha, beta])\n",
    "\n",
    "# Define the Z observable\n",
    "Z = np.array([[1, 0], [0, -1]])\n",
    "\n",
    "# Compute the expectation value /Z\\\n",
    "expectation_Z = np.vdot(psi, Z @ psi)\n",
    "print(expectation_Z)\n",
    "# This will output 0.0, since the probabilities of measuring |0\\rangle and |1\\rangle are equal.\n"
   ]
  },
  {
   "cell_type": "code",
   "execution_count": null,
   "metadata": {
    "deletable": false,
    "editable": false,
    "nbgrader": {
     "cell_type": "code",
     "checksum": "282d03e9e31604b9b4abc1f30078a86b",
     "grade": true,
     "grade_id": "1-1-2-test",
     "locked": true,
     "points": 10,
     "schema_version": 3,
     "solution": false,
     "task": false
    }
   },
   "outputs": [],
   "source": [
    "# The autograder will test the value stored in `Z`\n",
    "assert float(Z) == Z, 'The value should be a real number'"
   ]
  },
  {
   "cell_type": "markdown",
   "metadata": {},
   "source": [
    "##### 1.1.3 X-basis measurement\n",
    "Similarly the definition of an x-basis measurement is to apply the $X$ observable, written as:\n",
    "$$X = (+1)E_+ + (-1)E_-$$\n",
    "where $E_+=|+\\rangle\\langle +|$ and $E_-=|-\\rangle\\langle -|$ are the orthogonal projectors associated with the x-basis.\n",
    "\n",
    "Sine Qiskit only support z-basis measurement, we need to create our own x-basis measurement. Use the fact that $HZH=X$, write down the circuit that accomplishes the x-basis measurment for the same quantum state from the last question:"
   ]
  },
  {
   "cell_type": "code",
   "execution_count": null,
   "metadata": {},
   "outputs": [],
   "source": [
    "qc2_prep = QuantumCircuit(1, 1) # Initialize circuit with one qubit\n",
    "qc2_prep.ry(np.pi/8, 0) # Prepare quantum state\n",
    "\n",
    "draw_bloch(qc2_prep) # Visualize on Bloch sphere"
   ]
  },
  {
   "cell_type": "code",
   "execution_count": null,
   "metadata": {
    "deletable": false,
    "nbgrader": {
     "cell_type": "code",
     "checksum": "50b1fcce795d08e04ee8b6b55aa4f706",
     "grade": false,
     "grade_id": "1-1-3",
     "locked": false,
     "schema_version": 3,
     "solution": true,
     "task": false
    }
   },
   "outputs": [],
   "source": [
    "qc2 = QuantumCircuit(1, 1)\n",
    "qc2 += qc2_prep\n",
    "\n",
    "# X-basis measurement\n",
    "from qiskit import QuantumCircuit, Aer, execute\n",
    "qc = QuantumCircuit(1, 1)\n",
    "# Prepare the same state as before\n",
    "qc.h(0)\n",
    "# Apply Hadamard before measurement to switch to x-basis\n",
    "qc.h(0)\n",
    "# Measure in z-basis (which now corresponds to x-basis)\n",
    "qc.measure(0, 0)\n",
    "\n",
    "# Simulate the circuit\n",
    "backend = Aer.get_backend('qasm_simulator')\n",
    "result = execute(qc, backend, shots=1024).result()\n",
    "counts = result.get_counts()\n",
    "\n",
    "print(counts)\n",
    "\n",
    "\n",
    "qc2.draw(fold=-1)"
   ]
  },
  {
   "cell_type": "code",
   "execution_count": null,
   "metadata": {},
   "outputs": [],
   "source": [
    "job = execute(qc2, backend, shots=1000) # Simulate\n",
    "job.result().get_counts(qc2)"
   ]
  },
  {
   "cell_type": "code",
   "execution_count": null,
   "metadata": {
    "deletable": false,
    "editable": false,
    "nbgrader": {
     "cell_type": "code",
     "checksum": "6f5e4e5960c903173af6154edd04ac27",
     "grade": true,
     "grade_id": "1-1-3-test",
     "locked": true,
     "points": 10,
     "schema_version": 3,
     "solution": false,
     "task": false
    }
   },
   "outputs": [],
   "source": [
    "_qc2_prep = QuantumCircuit(1, 1)\n",
    "_qc2_prep.ry(np.pi/8, 0)\n",
    "assert qc2_prep[:] == _qc2_prep[:], 'Do not modify the state preparation part'\n",
    "assert qc2[:len(_qc2_prep)] == _qc2_prep[:], 'Do not modify the state preparation part'\n",
    "\n",
    "_meas = QuantumCircuit(1, 1)\n",
    "_meas.measure(0, 0)\n",
    "assert qc2[-1:] == _meas[:], 'Your circuit must end with a measurement'"
   ]
  },
  {
   "cell_type": "markdown",
   "metadata": {},
   "source": [
    "##### 1.1.4 X-basis measurement (continued)\n",
    "What is the probability `pz` of obtaining $|+\\rangle$ from the measurement?"
   ]
  },
  {
   "cell_type": "code",
   "execution_count": null,
   "metadata": {
    "deletable": false,
    "nbgrader": {
     "cell_type": "code",
     "checksum": "e6e250c7e8698fd76adbfd02076c348f",
     "grade": false,
     "grade_id": "1-1-4",
     "locked": false,
     "schema_version": 3,
     "solution": true,
     "task": false
    }
   },
   "outputs": [
    {
     "name": "stdout",
     "output_type": "stream",
     "text": [
      "0.9999999999999996\n"
     ]
    }
   ],
   "source": [
    "import numpy as np\n",
    "\n",
    "# Define |+\\ state\n",
    "plus = np.array([1, 1]) / np.sqrt(2)\n",
    "psi = plus\n",
    "pz = np.abs(np.vdot(plus, psi))**2\n",
    "print(pz)\n"
   ]
  },
  {
   "cell_type": "markdown",
   "metadata": {},
   "source": [
    "##### 1.1.5 X-basis measurement (continued)\n",
    "What is the expectation value of the above measurement, $\\langle X\\rangle$?"
   ]
  },
  {
   "cell_type": "code",
   "execution_count": null,
   "metadata": {
    "deletable": false,
    "nbgrader": {
     "cell_type": "code",
     "checksum": "4c5ab2979fd49834e4be3a3def1a8110",
     "grade": false,
     "grade_id": "1-1-5",
     "locked": false,
     "schema_version": 3,
     "solution": true,
     "task": false
    }
   },
   "outputs": [
    {
     "name": "stdout",
     "output_type": "stream",
     "text": [
      "0.9999999999999997\n"
     ]
    }
   ],
   "source": [
    "import numpy as np\n",
    "\n",
    "# Define |+\\ and |−\\ states\n",
    "plus = np.array([1, 1]) / np.sqrt(2)\n",
    "minus = np.array([1, -1]) / np.sqrt(2)\n",
    "X = np.outer(plus, plus) - np.outer(minus, minus)\n",
    "psi = plus\n",
    "\n",
    "expectation_X = np.vdot(psi, X @ psi)\n",
    "print(expectation_X)\n",
    "# This should giva an output near 1.0, confirming that the expectation value of measuring X in the |+\\rangle state is 1.\n",
    "\n"
   ]
  },
  {
   "cell_type": "markdown",
   "metadata": {},
   "source": [
    "#### 1.2 Measuring multi-qubit states\n",
    "Implement the quantum program that prepares the quantum state $|\\psi\\rangle=\\frac{1}{\\sqrt{3}}(|01\\rangle+|10\\rangle+|11\\rangle)$."
   ]
  },
  {
   "cell_type": "code",
   "execution_count": null,
   "metadata": {},
   "outputs": [],
   "source": [
    "qc3_prep = QuantumCircuit(2, 1)\n",
    "qc3_prep.ry(np.arccos(1/3**0.5)*2, 0)\n",
    "qc3_prep.cry(np.pi/2, 0, 1)\n",
    "qc3_prep.x(1)\n",
    "\n",
    "qc3_prep.draw(fold=-1)"
   ]
  },
  {
   "cell_type": "code",
   "execution_count": null,
   "metadata": {},
   "outputs": [],
   "source": [
    "# Compute the state psi\n",
    "state_simulator = BasicAer.get_backend('statevector_simulator')\n",
    "result = execute(qc3_prep, state_simulator).result()\n",
    "psi = result.get_statevector(qc3_prep)\n",
    "print(f'psi = {psi.round(10)!r}')"
   ]
  },
  {
   "cell_type": "code",
   "execution_count": null,
   "metadata": {},
   "outputs": [
    {
     "name": "stdout",
     "output_type": "stream",
     "text": [
      "Statevector([0.        +0.j, 0.81649658+0.j, 0.57735027+0.j,\n",
      "             0.        +0.j],\n",
      "            dims=(2, 2))\n"
     ]
    }
   ],
   "source": [
    "from qiskit import QuantumCircuit\n",
    "from qiskit.quantum_info import Statevector\n",
    "\n",
    "# Create a quantum circuit with 2 qubits\n",
    "qc = QuantumCircuit(2)\n",
    "\n",
    "# Apply Ry and controlled gates to build the desired superposition\n",
    "qc.ry(2 * np.arccos(1 / np.sqrt(3)), 0)  # Prepare amplitude on qubit 0\n",
    "qc.x(1)                                  # Flip qubit 1 to |1\\\n",
    "qc.cx(0, 1)                              # Entangle qubit 0 and 1\n",
    "\n",
    "state = Statevector.from_instruction(qc)\n",
    "print(state)\n"
   ]
  },
  {
   "cell_type": "markdown",
   "metadata": {},
   "source": [
    "##### 1.2.1 Partial measurement\n",
    "Say we want to measure observable $I\\otimes X$.  What is the probability of measuring $|+\\rangle$ on the second qubit?  You may calculate $p_{IX}$ by hand or compute it using the variable `psi` calculated above."
   ]
  },
  {
   "cell_type": "code",
   "execution_count": null,
   "metadata": {
    "deletable": false,
    "nbgrader": {
     "cell_type": "code",
     "checksum": "acc7f51b2db3d88e306782c9fd0ff3ad",
     "grade": false,
     "grade_id": "1-2-1",
     "locked": false,
     "schema_version": 3,
     "solution": true,
     "task": false
    }
   },
   "outputs": [
    {
     "name": "stdout",
     "output_type": "stream",
     "text": [
      "0.8333333333333334\n"
     ]
    }
   ],
   "source": [
    "import numpy as np\n",
    "\n",
    "zero = np.array([1, 0])\n",
    "one = np.array([0, 1])\n",
    "plus = (zero + one) / np.sqrt(2)\n",
    "psi = (np.kron(zero, one) + np.kron(one, zero) + np.kron(one, one)) / np.sqrt(3)\n",
    "\n",
    "# Define E_+ = |+\\/+| for second qubit\n",
    "E_plus = np.outer(plus, plus)\n",
    "# Identity on first qubit\n",
    "I = np.eye(2)\n",
    "\n",
    "# Observable: I direct product E_+\n",
    "IX = np.kron(I, E_plus)\n",
    "\n",
    "# Compute probability\n",
    "p_ix = np.vdot(psi, IX @ psi)\n",
    "print(p_ix)\n"
   ]
  },
  {
   "cell_type": "code",
   "execution_count": 11,
   "metadata": {
    "deletable": false,
    "editable": false,
    "nbgrader": {
     "cell_type": "code",
     "checksum": "da5ee55430e9326bf2fcd921cf19c23c",
     "grade": true,
     "grade_id": "1-2-1-test",
     "locked": true,
     "points": 10,
     "schema_version": 3,
     "solution": false,
     "task": false
    }
   },
   "outputs": [],
   "source": [
    "# The autograder will test the value stored in `p_ix`\n",
    "assert 0 <= p_ix <= 1, 'The probability should be between 0 and 1'"
   ]
  },
  {
   "cell_type": "markdown",
   "metadata": {},
   "source": [
    "##### 1.2.2 Partial measurement (continued)\n",
    "What is the post-measurement state for the first qubit? Write down the density matrix representation of the quantum state. For example, if your answer is $\\rho = \\begin{pmatrix}1/2 & 0\\\\ 0 & 1/2\\end{pmatrix}$, enter\n",
    "```python\n",
    "rho = np.array([[1/2, 0],\n",
    "                [0, 1/2]])\n",
    "```\n",
    "You may calculate $\\rho$ by hand or compute it using the variable `psi` calculated earlier."
   ]
  },
  {
   "cell_type": "code",
   "execution_count": 12,
   "metadata": {
    "deletable": false,
    "nbgrader": {
     "cell_type": "code",
     "checksum": "e10ce35236c0dbbea4a28e4a75bb4d5c",
     "grade": false,
     "grade_id": "1-2-2",
     "locked": false,
     "schema_version": 3,
     "solution": true,
     "task": false
    }
   },
   "outputs": [
    {
     "name": "stdout",
     "output_type": "stream",
     "text": [
      "[[0.2 0.4]\n",
      " [0.4 0.8]]\n"
     ]
    }
   ],
   "source": [
    "import numpy as np\n",
    "\n",
    "zero = np.array([1, 0])\n",
    "one = np.array([0, 1])\n",
    "plus = (zero + one) / np.sqrt(2)\n",
    "psi = (np.kron(zero, one) + np.kron(one, zero) + np.kron(one, one)) / np.sqrt(3)\n",
    "rho_full = np.outer(psi, psi)\n",
    "E_plus = np.outer(plus, plus)\n",
    "IX = np.kron(np.eye(2), E_plus)\n",
    "\n",
    "# Apply projection\n",
    "rho_proj = IX @ rho_full @ IX\n",
    "# Normalize by probability p_{IX} = 5/6\n",
    "rho_proj /= np.trace(rho_proj)\n",
    "\n",
    "# Partial trace over second qubit to get reduced state of first qubit\n",
    "rho_first = np.zeros((2, 2), dtype=complex)\n",
    "for i in range(2):\n",
    "    for j in range(2):\n",
    "        rho_first[i, j] = rho_proj[i*2, j*2] + rho_proj[i*2+1, j*2+1]\n",
    "\n",
    "rho = rho_first.real.round(6)  # Round for clarity\n",
    "print(rho)\n"
   ]
  },
  {
   "cell_type": "code",
   "execution_count": 13,
   "metadata": {
    "deletable": false,
    "editable": false,
    "nbgrader": {
     "cell_type": "code",
     "checksum": "1b4c49ec5b71d932ab6c4b7dd0e241a6",
     "grade": true,
     "grade_id": "1-2-2-test",
     "locked": true,
     "points": 10,
     "schema_version": 3,
     "solution": false,
     "task": false
    }
   },
   "outputs": [],
   "source": [
    "# The autograder will test the value stored in `rho`\n",
    "assert rho.shape == (2, 2), 'rho must be a 2 by 2 numpy array'\n",
    "assert np.isclose(np.trace(rho), 1), 'Invalid density matrix: the trace must equal 1'"
   ]
  },
  {
   "cell_type": "markdown",
   "metadata": {},
   "source": [
    "#### 1.3 A sequence of projective measurements\n",
    "\n",
    "Implement a quantum program that prepares the boring quantum state $|\\psi\\rangle=|00\\rangle$ using projective measurements."
   ]
  },
  {
   "cell_type": "code",
   "execution_count": null,
   "metadata": {},
   "outputs": [],
   "source": [
    "qc4_prep = QuantumCircuit(2) \n",
    "# No gates\n",
    "qc4_prep.draw(fold=-1)"
   ]
  },
  {
   "cell_type": "code",
   "execution_count": null,
   "metadata": {},
   "outputs": [],
   "source": [
    "# Compute the state psi\n",
    "state_simulator = BasicAer.get_backend('statevector_simulator')\n",
    "result = execute(qc4_prep, state_simulator).result()\n",
    "psi4 = result.get_statevector(qc4_prep)\n",
    "print(f'psi = {psi4.round(10)!r}')"
   ]
  },
  {
   "cell_type": "code",
   "execution_count": null,
   "metadata": {},
   "outputs": [],
   "source": [
    "# The observable X direct sum X\n",
    "o1_circ = QuantumCircuit(2)\n",
    "o1_circ.x(0)\n",
    "o1_circ.x(1)\n",
    "o1_circ.draw(fold=-1)"
   ]
  },
  {
   "cell_type": "code",
   "execution_count": null,
   "metadata": {},
   "outputs": [],
   "source": [
    "# The observable Z direct sum Z\n",
    "o2_circ = QuantumCircuit(2)\n",
    "o2_circ.z(0)\n",
    "o2_circ.z(1)\n",
    "o2_circ.draw(fold=-1)"
   ]
  },
  {
   "cell_type": "code",
   "execution_count": null,
   "metadata": {},
   "outputs": [],
   "source": [
    "q = QuantumRegister(3, 'q')\n",
    "c = ClassicalRegister(1, 'c')\n",
    "qc4 = QuantumCircuit(q, c) # Initialize circuit with two qubits\n",
    "\n",
    "# Prepare the initial state (qubits 1 and 2)\n",
    "qc4.append(qc4_prep.to_gate(label='prep'), [1, 2])\n",
    "qc4.barrier()\n",
    "\n",
    "# Measure observable 1\n",
    "qc4.h(0)\n",
    "qc4.append(o1_circ.to_gate(label='O1').control(), [0, 1, 2])\n",
    "qc4.h(0)\n",
    "qc4.measure(0, c)\n",
    "qc4.barrier()\n",
    "\n",
    "qc4.x(0, label='reset').c_if(c, 1)  # Reset the measurement qubit to 0\n",
    "qc4.z(2).c_if(c, 1)\n",
    "qc4.barrier()\n",
    "\n",
    "# Measure observable 2\n",
    "qc4.h(0)\n",
    "qc4.append(o2_circ.to_gate(label='O2').control(), [0, 1, 2])\n",
    "qc4.h(0)\n",
    "qc4.measure(0, c)\n",
    "qc4.barrier()\n",
    "\n",
    "qc4.x(0, label='reset').c_if(c, 1)  # Reset the measurement qubit to 0\n",
    "\n",
    "qc4.draw(fold=-1)"
   ]
  },
  {
   "cell_type": "markdown",
   "metadata": {},
   "source": [
    "##### 1.3.1 Projective measurement\n",
    "What is the state vector `psi_after_o1_0` (for qubits 1 and 2) after measureing $O_1$, the observable $X\\otimes X$ (at the 2nd barrier)?  Assume the outcome of the measurement is 0.\n",
    "\n",
    "For example, if your answer is $\\psi = \\begin{pmatrix}1/2 \\\\ 1/2 \\\\ 1/2 \\\\ -1/2\\end{pmatrix}$, enter\n",
    "```python\n",
    "psi_after_o1_0 = np.array([1, 1, 1, -1]) / 2\n",
    "```"
   ]
  },
  {
   "cell_type": "code",
   "execution_count": 14,
   "metadata": {
    "deletable": false,
    "nbgrader": {
     "cell_type": "code",
     "checksum": "7e7eb26ba40c50ac02d8f3669b58fd04",
     "grade": false,
     "grade_id": "1-3-1",
     "locked": false,
     "schema_version": 3,
     "solution": true,
     "task": false
    }
   },
   "outputs": [
    {
     "name": "stdout",
     "output_type": "stream",
     "text": [
      "[0.316228 0.632456 0.632456 0.316228]\n"
     ]
    }
   ],
   "source": [
    "import numpy as np\n",
    "\n",
    "# Define Pauli X\n",
    "X = np.array([[0, 1], [1, 0]])\n",
    "I = np.eye(2)\n",
    "psi = (np.kron([1, 0], [0, 1]) + np.kron([0, 1], [1, 0]) + np.kron([0, 1], [0, 1])) / np.sqrt(3)\n",
    "\n",
    "# Projector onto +1 eigenspace of X direct sum X\n",
    "P_plus = 0.5 * (np.kron(I, I) + np.kron(X, X))\n",
    "\n",
    "# Apply projection and normalize\n",
    "psi_proj = P_plus @ psi\n",
    "psi_after_o1_0 = psi_proj / np.linalg.norm(psi_proj)\n",
    "\n",
    "print(np.round(psi_after_o1_0, 6))"
   ]
  },
  {
   "cell_type": "code",
   "execution_count": 15,
   "metadata": {
    "deletable": false,
    "editable": false,
    "nbgrader": {
     "cell_type": "code",
     "checksum": "2500794688b1c44833df3908c0e6ac33",
     "grade": true,
     "grade_id": "1-3-1-test",
     "locked": true,
     "points": 10,
     "schema_version": 3,
     "solution": false,
     "task": false
    }
   },
   "outputs": [],
   "source": [
    "# The autograder will test the value stored in `psi_after_o1_0`\n",
    "assert psi_after_o1_0.shape == (4,), (\n",
    "    'psi_after_o1_0 must be a 1D numpy array with 4 entries')\n",
    "assert np.isclose(np.linalg.norm(psi_after_o1_0), 1), (\n",
    "    'The state vector must be normalized')"
   ]
  }
 ],
 "metadata": {
  "@webio": {
   "lastCommId": null,
   "lastKernelId": null
  },
  "kernelspec": {
   "display_name": "Python 3",
   "language": "python",
   "name": "python3"
  },
  "language_info": {
   "codemirror_mode": {
    "name": "ipython",
    "version": 3
   },
   "file_extension": ".py",
   "mimetype": "text/x-python",
   "name": "python",
   "nbconvert_exporter": "python",
   "pygments_lexer": "ipython3",
   "version": "3.13.5"
  }
 },
 "nbformat": 4,
 "nbformat_minor": 4
}
